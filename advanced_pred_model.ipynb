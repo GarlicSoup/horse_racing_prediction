{
  "nbformat": 4,
  "nbformat_minor": 0,
  "metadata": {
    "accelerator": "GPU",
    "colab": {
      "name": "advanced_pred_model.ipynb",
      "provenance": [],
      "collapsed_sections": [],
      "toc_visible": true,
      "authorship_tag": "ABX9TyPQPfX3S0ReBQxW2BaihRgT",
      "include_colab_link": true
    },
    "kernelspec": {
      "display_name": "Python 3",
      "name": "python3"
    }
  },
  "cells": [
    {
      "cell_type": "markdown",
      "metadata": {
        "id": "view-in-github",
        "colab_type": "text"
      },
      "source": [
        "<a href=\"https://colab.research.google.com/github/GarlicSoup/horse_racing_prediction/blob/main/advanced_pred_model.ipynb\" target=\"_parent\"><img src=\"https://colab.research.google.com/assets/colab-badge.svg\" alt=\"Open In Colab\"/></a>"
      ]
    },
    {
      "cell_type": "markdown",
      "metadata": {
        "id": "I5HvyAmb-AjT"
      },
      "source": [
        "# (Optional) Preparation steps to enable LightGBM with gpu in CoLab"
      ]
    },
    {
      "cell_type": "code",
      "metadata": {
        "id": "gByDofvjv1cb"
      },
      "source": [
        "!git clone --recursive https://github.com/Microsoft/LightGBM"
      ],
      "execution_count": null,
      "outputs": []
    },
    {
      "cell_type": "code",
      "metadata": {
        "id": "K92cyS4pvlvs"
      },
      "source": [
        "%cd /content/LightGBM\r\n",
        "!mkdir build\r\n",
        "!cmake -DUSE_GPU=1 #avoid ..\r\n",
        "!make -j$(nproc)\r\n",
        "!sudo apt-get -y install python-pip\r\n",
        "!sudo -H pip install setuptools pandas numpy scipy scikit-learn -U"
      ],
      "execution_count": null,
      "outputs": []
    },
    {
      "cell_type": "code",
      "metadata": {
        "colab": {
          "base_uri": "https://localhost:8080/"
        },
        "id": "7K2drzjzqE-I",
        "outputId": "62d9acbd-2091-464c-ea48-1a4ad4878782"
      },
      "source": [
        "%cd /content/LightGBM/python-package"
      ],
      "execution_count": 3,
      "outputs": [
        {
          "output_type": "stream",
          "text": [
            "/content/LightGBM/python-package\n"
          ],
          "name": "stdout"
        }
      ]
    },
    {
      "cell_type": "code",
      "metadata": {
        "id": "cXU48fMkvlyF"
      },
      "source": [
        "!sudo python setup.py install --precompile"
      ],
      "execution_count": null,
      "outputs": []
    },
    {
      "cell_type": "code",
      "metadata": {
        "id": "7wLiXHI6E58Z"
      },
      "source": [
        "! pip install -U catboost\r\n",
        "! pip install -U hyperopt\r\n",
        "! pip install -U scikit-learn\r\n",
        "! pip install -U imblearn\r\n",
        "! pip install -U six"
      ],
      "execution_count": null,
      "outputs": []
    },
    {
      "cell_type": "code",
      "metadata": {
        "id": "Bf3bXkqArZfZ"
      },
      "source": [
        "%pwd\r\n",
        "%cd ..\r\n",
        "%cd ..\r\n",
        "%pwd"
      ],
      "execution_count": null,
      "outputs": []
    },
    {
      "cell_type": "markdown",
      "metadata": {
        "id": "Vtbnt7DgEf9e"
      },
      "source": [
        "# Mounting Google Drive locally\r\n",
        "Mount the Google Driver into the Google Colab Driver."
      ]
    },
    {
      "cell_type": "code",
      "metadata": {
        "colab": {
          "base_uri": "https://localhost:8080/"
        },
        "id": "oH8U9L9lEKGR",
        "outputId": "f4b8c90f-0e49-421d-8b4c-c7eb3ae6d8bc"
      },
      "source": [
        "from google.colab import drive\r\n",
        "drive.mount('/content/drive')"
      ],
      "execution_count": 7,
      "outputs": [
        {
          "output_type": "stream",
          "text": [
            "Mounted at /content/drive\n"
          ],
          "name": "stdout"
        }
      ]
    },
    {
      "cell_type": "markdown",
      "metadata": {
        "id": "TbOK0AfL3UcD"
      },
      "source": [
        "# Data Preperation"
      ]
    },
    {
      "cell_type": "markdown",
      "metadata": {
        "id": "06uHVnt3Eo8H"
      },
      "source": [
        "## Import all useful packages."
      ]
    },
    {
      "cell_type": "code",
      "metadata": {
        "id": "nZqE3uBuEpZs"
      },
      "source": [
        "# Hide warnings\r\n",
        "import warnings\r\n",
        "warnings.filterwarnings('ignore')\r\n",
        "\r\n",
        "# Import libraries\r\n",
        "import json\r\n",
        "import os\r\n",
        "from os.path import dirname, abspath\r\n",
        "from sklearn.metrics import f1_score\r\n",
        "import pandas as pd\r\n",
        "import time\r\n",
        "from sklearn.preprocessing import StandardScaler\r\n",
        "from sklearn.metrics import confusion_matrix\r\n",
        "import lightgbm as lgb\r\n",
        "import catboost \r\n",
        "#from imblearn.over_sampling import SMOTE, ADASYN\r\n",
        "from hyperopt import hp, fmin, tpe, STATUS_OK, Trials\r\n",
        "from sklearn.model_selection import cross_val_score\r\n",
        "import pickle\r\n",
        "from sklearn.ensemble import RandomForestClassifier\r\n",
        "from sklearn import linear_model\r\n",
        "from sklearn.utils import class_weight\r\n",
        "import numpy as np\r\n",
        "from sklearn.ensemble import VotingClassifier"
      ],
      "execution_count": 8,
      "outputs": []
    },
    {
      "cell_type": "markdown",
      "metadata": {
        "id": "ouehaI2wE61g"
      },
      "source": [
        "## Import data"
      ]
    },
    {
      "cell_type": "code",
      "metadata": {
        "colab": {
          "base_uri": "https://localhost:8080/"
        },
        "id": "HjlWZ2HlGjap",
        "outputId": "28f50a43-f331-4e60-8af6-afa52e1cfacc"
      },
      "source": [
        "current_dir_path = \"drive/MyDrive/DataScience/horse_pred/src/models/\"\r\n",
        "parent_dir_path = dirname(dirname(current_dir_path))\r\n",
        "print(parent_dir_path)\r\n",
        "df_train = pd.read_csv(parent_dir_path +\"/extracted_feature/training.csv\")\r\n",
        "df_test = pd.read_csv(parent_dir_path +\"/extracted_feature/testing.csv\")"
      ],
      "execution_count": 9,
      "outputs": [
        {
          "output_type": "stream",
          "text": [
            "drive/MyDrive/DataScience/horse_pred/src\n"
          ],
          "name": "stdout"
        }
      ]
    },
    {
      "cell_type": "markdown",
      "metadata": {
        "id": "vXNhQuyGH7b6"
      },
      "source": [
        "## Select features based upon those algorithm and personal analysis"
      ]
    },
    {
      "cell_type": "code",
      "metadata": {
        "colab": {
          "base_uri": "https://localhost:8080/"
        },
        "id": "3gjR4KsHFHkV",
        "outputId": "8ec011f2-0f0d-4ffb-dcd6-c7c6a9035acf"
      },
      "source": [
        "print(\"Select useful data...\")\r\n",
        "with open(parent_dir_path + '/models/useful_features.json') as f:\r\n",
        "  useful_features = json.load(f)\r\n",
        "# Remove SexCD attribute\r\n",
        "useful_features.pop(\"SexCD\")\r\n",
        "\r\n",
        "X_train = df_train[useful_features]\r\n",
        "y_train_top3 = df_train[\"horse_rank_top3\"]\r\n",
        "X_test = df_test[useful_features]\r\n",
        "y_test_top3 = df_test[\"horse_rank_top3\"]\r\n",
        "print(\"Finished selecting!\\n\")\r\n"
      ],
      "execution_count": 10,
      "outputs": [
        {
          "output_type": "stream",
          "text": [
            "Select useful data...\n",
            "Finished selecting!\n",
            "\n"
          ],
          "name": "stdout"
        }
      ]
    },
    {
      "cell_type": "markdown",
      "metadata": {
        "id": "9rtC4TKLIfVN"
      },
      "source": [
        "# Normalization\r\n",
        "\r\n",
        "Standard Normalization"
      ]
    },
    {
      "cell_type": "code",
      "metadata": {
        "colab": {
          "base_uri": "https://localhost:8080/"
        },
        "id": "W_sKwcFVIXaH",
        "outputId": "9fbde707-8ed9-4a4b-982c-8fbf33aadbf5"
      },
      "source": [
        "print(\"Normalization...\")\r\n",
        "std_scaler = StandardScaler()\r\n",
        "std_scaler.fit(X_train)\r\n",
        "X_train_std = std_scaler.transform(X_train)\r\n",
        "X_test_std = std_scaler.transform(X_test)\r\n",
        "print(\"Finished normalization!\\n\")"
      ],
      "execution_count": 11,
      "outputs": [
        {
          "output_type": "stream",
          "text": [
            "Normalization...\n",
            "Finished normalization!\n",
            "\n"
          ],
          "name": "stdout"
        }
      ]
    },
    {
      "cell_type": "markdown",
      "metadata": {
        "id": "hxIF80kIIofk"
      },
      "source": [
        "# Useful functions: "
      ]
    },
    {
      "cell_type": "markdown",
      "metadata": {
        "id": "xSUb2hPsCVjk"
      },
      "source": [
        "## Accuracy calculation and pickling models\r\n",
        "\r\n",
        "- def calc_accuracy: calculate and show accuracy\r\n",
        "\r\n",
        "- def create_model_pickle: create a pickle file that contains the model architecture"
      ]
    },
    {
      "cell_type": "code",
      "metadata": {
        "id": "ZNpjBAE4IXPW"
      },
      "source": [
        "def calc_accuracy(groundtruth, prediction):\r\n",
        "    # input: groundtruth and prediction results\r\n",
        "    # output: f1_score and comfussion matrix\r\n",
        "    f1_score_model = f1_score(groundtruth, prediction, average=\"weighted\")\r\n",
        "    print(f\"F1 score: {f1_score_model:0.5f}\")\r\n",
        "    cm = confusion_matrix(groundtruth, prediction)\r\n",
        "    true_pos_win_rate = cm[1,1]/(cm[1,0]+cm[1,1])\r\n",
        "    print(f\"correct_pred_top3/total_actual_top3: {true_pos_win_rate:0.5f}\")\r\n",
        "    return f1_score_model, true_pos_win_rate\r\n",
        "\r\n",
        "def create_model_pickle(model, filename):\r\n",
        "    print(f\"Pickling the model into the file {filename}\")\r\n",
        "    with open(filename, 'wb') as f:\r\n",
        "        pickle.dump(model, f)\r\n",
        "    print(\"Finished pickling the model\")\r\n"
      ],
      "execution_count": 12,
      "outputs": []
    },
    {
      "cell_type": "markdown",
      "metadata": {
        "id": "-CSOozakA-KB"
      },
      "source": [
        "## Function to plot confusion matrix\r\n",
        "\r\n",
        "plot_confusion_matrix(predictions, groundtruth, class_names,normalize=True)\r\n",
        "\r\n",
        "- Input: prediction: \r\n",
        "-- results from model, \r\n",
        "-- groundtruth: true outcomes\r\n",
        "-- class_names: labels of each class\r\n",
        "-- normalize: if set to true, normalize the results of the confusion matrix\r\n",
        "\r\n",
        "- Output: plot the confusion matrix"
      ]
    },
    {
      "cell_type": "code",
      "metadata": {
        "id": "167eTRsSA7ti"
      },
      "source": [
        "def plot_confusion_matrix(predictions, \r\n",
        "                          groundtruth, \r\n",
        "                          class_names,\r\n",
        "                          normalize=True):\r\n",
        "\r\n",
        "    import matplotlib.pyplot as plt\r\n",
        "    import numpy as np\r\n",
        "    import itertools\r\n",
        "    from sklearn.metrics import confusion_matrix\r\n",
        "    \r\n",
        "    cm = confusion_matrix(groundtruth, predictions)\r\n",
        "    \r\n",
        "                          \r\n",
        "    accuracy = np.trace(cm) / float(np.sum(cm))\r\n",
        "    misclass = 1 - accuracy\r\n",
        "\r\n",
        "    cmap = plt.get_cmap('Blues')\r\n",
        "    title='Confusion matrix'\r\n",
        "    plt.figure(figsize=(8, 6))\r\n",
        "    plt.imshow(cm, interpolation='nearest', cmap=cmap)\r\n",
        "    plt.title(title)\r\n",
        "    plt.colorbar()\r\n",
        "\r\n",
        "    if class_names is not None:\r\n",
        "        tick_marks = np.arange(len(class_names))\r\n",
        "        plt.xticks(tick_marks, class_names, rotation=45)\r\n",
        "        plt.yticks(tick_marks, class_names)\r\n",
        "\r\n",
        "    if normalize:\r\n",
        "        cm = cm.astype('float') / cm.sum(axis=1)[:, np.newaxis]\r\n",
        "\r\n",
        "\r\n",
        "    thresh = cm.max() / 1.5 if normalize else cm.max() / 2\r\n",
        "    for i, j in itertools.product(range(cm.shape[0]), range(cm.shape[1])):\r\n",
        "        if normalize:\r\n",
        "            plt.text(j, i, \"{:0.4f}\".format(cm[i, j]),\r\n",
        "                     horizontalalignment=\"center\",\r\n",
        "                     color=\"white\" if cm[i, j] > thresh else \"black\")\r\n",
        "        else:\r\n",
        "            plt.text(j, i, \"{:,}\".format(cm[i, j]),\r\n",
        "                     horizontalalignment=\"center\",\r\n",
        "                     color=\"white\" if cm[i, j] > thresh else \"black\")\r\n",
        "\r\n",
        "\r\n",
        "    plt.tight_layout()\r\n",
        "    plt.ylabel('Ground Truth label')\r\n",
        "    plt.xlabel('Predicted label\\naccuracy={:0.4f}; misclass={:0.4f}'.format(accuracy, misclass))\r\n",
        "    plt.grid(False)\r\n",
        "    print(\"correct_pred_top3/total_actual_top3: \", cm[1,1]/(cm[1,0]+cm[1,1]))\r\n",
        "    plt.show()"
      ],
      "execution_count": 13,
      "outputs": []
    },
    {
      "cell_type": "markdown",
      "metadata": {
        "id": "QFfXGr07JKAm"
      },
      "source": [
        "# Prediction"
      ]
    },
    {
      "cell_type": "code",
      "metadata": {
        "id": "IPJTXbv029Ui"
      },
      "source": [
        "# a dictionary for keeping all scores of the classifiers\r\n",
        "f1_scores = {'train':{'logis_reg': 0, 'randomForest': 0, 'catboost': 0, 'lightGBM': 0, 'EN_HARD': 0, 'EN_SOFT': 0},\r\n",
        "             'test':{'logis_reg': 0, 'randomForest': 0, 'catboost': 0, 'lightGBM': 0, 'EN_HARD': 0, 'EN_SOFT': 0}}\r\n",
        "true_pos_wining_rates = {'train':{'logis_reg': 0, 'randomForest': 0, 'catboost': 0, 'lightGBM': 0, 'EN_HARD': 0, 'EN_SOFT': 0},\r\n",
        "                            'test':{'logis_reg': 0, 'randomForest': 0, 'catboost': 0, 'lightGBM': 0, 'EN_HARD': 0, 'EN_SOFT': 0}}"
      ],
      "execution_count": 14,
      "outputs": []
    },
    {
      "cell_type": "markdown",
      "metadata": {
        "id": "7M5S_NVhJNuW"
      },
      "source": [
        "## CatBoost"
      ]
    },
    {
      "cell_type": "code",
      "metadata": {
        "colab": {
          "base_uri": "https://localhost:8080/"
        },
        "id": "ebFtzuD7bEP_",
        "outputId": "73d15928-cd5a-4e99-d981-516f595d30b0"
      },
      "source": [
        "# *** CatBoost ***\r\n",
        "print(\"Catboost...\")\r\n",
        "# Bayesian Optimization for tuning hyperparameters\r\n",
        "print(\"Bayesian Optimization for tuning hyperparameters\")\r\n",
        "iterations = {0: 100, 1: 250, 2: 450, 3: 700, 4: 1000, 5: 2000}\r\n",
        "catboost_space = {\r\n",
        "    \"iterations\": hp.choice(\"iterations\", iterations.values()),\r\n",
        "    \"l2_leaf_reg\": hp.randint(\"l2_leaf_reg\", 1000),\r\n",
        "    \"depth\": hp.quniform(\"depth\", 3, 10, 1),\r\n",
        "    'learning_rate': hp.uniform('learning_rate', 0.005, 0.3),\r\n",
        "    'bagging_temperature': hp.uniform('bagging_temperature', 1, 10)\r\n",
        "}\r\n",
        "\r\n",
        "def catboost_objective(params):\r\n",
        "    model = catboost.CatBoostClassifier(**params, \r\n",
        "                                        eval_metric=\"AUC\",\r\n",
        "                                        class_weights=[1, 4],\r\n",
        "                                        border_count=254,\r\n",
        "                                        early_stopping_rounds=250,\r\n",
        "                                        task_type=\"GPU\",\r\n",
        "                                        silent=True)\r\n",
        "    acc = cross_val_score(model, X_train_std, y_train_top3, cv = 4, scoring='roc_auc').mean()\r\n",
        "    # We aim to maximize accuracy, therefore we return it as a negative value\r\n",
        "    return {'loss': -acc, 'status': STATUS_OK }\r\n",
        "\r\n",
        "t_tuning = time.time()\r\n",
        "catboost_trials = Trials()\r\n",
        "catboost_best_hyperparams = fmin(fn= catboost_objective,\r\n",
        "                space= catboost_space,\r\n",
        "                algo= tpe.suggest,\r\n",
        "                max_evals = 100,\r\n",
        "                trials= catboost_trials)\r\n",
        "print(f\"elapse time of tuning hyperparameter process: {time.time()-t_tuning} sec\")\r\n",
        "\r\n",
        "catboost_best_hyperparams['iterations']= iterations[catboost_best_hyperparams['iterations']]\r\n",
        "\r\n",
        "catboost_best_hyperparams['class_weights'] = [1, 4]\r\n",
        "catboost_best_hyperparams['silent'] = True\r\n",
        "catboost_best_hyperparams['eval_metric'] = \"AUC\"\r\n",
        "catboost_best_hyperparams['early_stopping_rounds'] = 250\r\n",
        "catboost_best_hyperparams['task_type'] = \"GPU\"\r\n",
        "print(\"best hyperparameters for Random Forest: \", catboost_best_hyperparams)\r\n",
        "\r\n",
        "# Create json file that record best parameter of the model\r\n",
        "with open('catboost_best_hyperparams.json', 'w') as fp:\r\n",
        "    json.dump(catboost_best_hyperparams, fp)"
      ],
      "execution_count": 15,
      "outputs": [
        {
          "output_type": "stream",
          "text": [
            "Catboost...\n",
            "Bayesian Optimization for tuning hyperparameters\n",
            "100%|██████████| 100/100 [1:29:13<00:00, 53.54s/trial, best loss: -0.8568038798486344]\n",
            "elapse time of tuning hyperparameter process: 5353.612135887146 sec\n",
            "best hyperparameters for Random Forest:  {'bagging_temperature': 1.0027979773243854, 'depth': 5.0, 'iterations': 1000, 'l2_leaf_reg': 954, 'learning_rate': 0.08412342023364658, 'class_weights': [1, 4], 'silent': True, 'eval_metric': 'AUC', 'early_stopping_rounds': 250, 'task_type': 'GPU'}\n"
          ],
          "name": "stdout"
        }
      ]
    },
    {
      "cell_type": "code",
      "metadata": {
        "id": "0K0bHYZz5Yji",
        "colab": {
          "base_uri": "https://localhost:8080/"
        },
        "outputId": "007bd91b-51ef-4109-bf3f-ffd7f99f2e1a"
      },
      "source": [
        "catboost_model = catboost.CatBoostClassifier(iterations=catboost_best_hyperparams['iterations'], \r\n",
        "                          l2_leaf_reg=catboost_best_hyperparams['l2_leaf_reg'], \r\n",
        "                          depth=catboost_best_hyperparams['depth'],\r\n",
        "                          learning_rate=catboost_best_hyperparams['learning_rate'],\r\n",
        "                          bagging_temperature=catboost_best_hyperparams['bagging_temperature'],\r\n",
        "                          class_weights=[1, 4],\r\n",
        "                          border_count=254,\r\n",
        "                          silent=True, \r\n",
        "                          eval_metric=\"AUC\",\r\n",
        "                          early_stopping_rounds=250,\r\n",
        "                          task_type=\"GPU\")\r\n",
        "\r\n",
        "t0 = time.time()\r\n",
        "catboost_model.fit(X_train_std,y_train_top3)\r\n",
        "print(f\"Training time for top3 CatBoost classifier: {time.time() - t0} sec\")\r\n",
        "\r\n",
        "# Prediction on training dataset\r\n",
        "catboost_predict_top3_train = catboost_model.predict(X_train_std)\r\n",
        "# Round the float number\r\n",
        "catboost_predict_top3_train = catboost_predict_top3_train.round(0)\r\n",
        "#converting from float to integer\r\n",
        "catboost_predict_top3_train = catboost_predict_top3_train.astype(int)\r\n",
        "\r\n",
        "# Prediction on testing dataset\r\n",
        "catboost_predict_top3_test = catboost_model.predict(X_test_std)\r\n",
        "# Round the float number\r\n",
        "catboost_predict_top3_test = catboost_predict_top3_test.round(0)\r\n",
        "#converting from float to integer\r\n",
        "catboost_predict_top3_test = catboost_predict_top3_test.astype(int)\r\n",
        "\r\n",
        "# Calculate accuracy\r\n",
        "f1_score_train, true_pos_win_rate_train = calc_accuracy(y_train_top3, catboost_predict_top3_train)\r\n",
        "f1_score_test, true_pos_win_rate_test = calc_accuracy(y_test_top3, catboost_predict_top3_test)\r\n",
        "\r\n",
        "# Append values to accuracy dictionary\r\n",
        "f1_scores[\"train\"][\"catboost\"] = round(f1_score_train, 4)\r\n",
        "true_pos_wining_rates[\"train\"][\"catboost\"] = round(true_pos_win_rate_train, 4)\r\n",
        "f1_scores[\"test\"][\"catboost\"] = round(f1_score_test, 4)\r\n",
        "true_pos_wining_rates[\"test\"][\"catboost\"] = round(true_pos_win_rate_test, 4)\r\n",
        "\r\n",
        "# Create a pickle file that contains the model\r\n",
        "create_model_pickle(catboost_model, 'catboost.pkl')\r\n",
        "print(\"CatBoost Done!\\n\")"
      ],
      "execution_count": 16,
      "outputs": [
        {
          "output_type": "stream",
          "text": [
            "Training time for top3 CatBoost classifier: 14.280487537384033 sec\n",
            "F1 score: 0.76515\n",
            "correct_pred_top3/total_actual_top3: 0.81419\n",
            "F1 score: 0.66799\n",
            "correct_pred_top3/total_actual_top3: 0.58305\n",
            "Pickling the model into the file catboost.pkl\n",
            "Finished pickling the model\n",
            "CatBoost Done!\n",
            "\n"
          ],
          "name": "stdout"
        }
      ]
    },
    {
      "cell_type": "code",
      "metadata": {
        "colab": {
          "base_uri": "https://localhost:8080/",
          "height": 484
        },
        "id": "mCf0gB39BOXz",
        "outputId": "4f7030fb-0d57-4f0f-bdfd-f0f58851f7f3"
      },
      "source": [
        "class_name = [0, 1]\r\n",
        "plot_confusion_matrix(catboost_predict_top3_test, y_test_top3, class_name, normalize=False)"
      ],
      "execution_count": 17,
      "outputs": [
        {
          "output_type": "stream",
          "text": [
            "correct_pred_top3/total_actual_top3:  0.5830469644902635\n"
          ],
          "name": "stdout"
        },
        {
          "output_type": "display_data",
          "data": {
            "image/png": "[encoded data removed]",
            "text/plain": [
              "<Figure size 576x432 with 2 Axes>"
            ]
          },
          "metadata": {
            "tags": [],
            "needs_background": "light"
          }
        }
      ]
    },
    {
      "cell_type": "code",
      "metadata": {
        "id": "qefA2yzStMl8"
      },
      "source": [
        "X_train_std.shape"
      ],
      "execution_count": null,
      "outputs": []
    },
    {
      "cell_type": "code",
      "metadata": {
        "id": "sVFb6mQYtOcK"
      },
      "source": [
        "X_test_std.shape"
      ],
      "execution_count": null,
      "outputs": []
    },
    {
      "cell_type": "code",
      "metadata": {
        "id": "7KdOPGTCszjz"
      },
      "source": [
        "X = pd.concat([X_train_std, X_test_std], ignore_index=True)\r\n",
        "y_top3 = pd.concat([y_train_top3, y_test_top3], ignore_index=True)"
      ],
      "execution_count": null,
      "outputs": []
    },
    {
      "cell_type": "code",
      "metadata": {
        "id": "6C7CaGEmtPsm"
      },
      "source": [
        "X.shape"
      ],
      "execution_count": null,
      "outputs": []
    },
    {
      "cell_type": "code",
      "metadata": {
        "id": "jakzovJdsjnZ"
      },
      "source": [
        "catboost_model_final = catboost.CatBoostClassifier(iterations=catboost_best_hyperparams['iterations'], \r\n",
        "                          l2_leaf_reg=catboost_best_hyperparams['l2_leaf_reg'], \r\n",
        "                          depth=catboost_best_hyperparams['depth'],\r\n",
        "                          learning_rate=catboost_best_hyperparams['learning_rate'],\r\n",
        "                          bagging_temperature=catboost_best_hyperparams['bagging_temperature'],\r\n",
        "                          class_weights=[1, 4],\r\n",
        "                          border_count=254,\r\n",
        "                          silent=True, \r\n",
        "                          eval_metric=\"AUC\",\r\n",
        "                          early_stopping_rounds=250,\r\n",
        "                          task_type=\"GPU\")\r\n",
        "\r\n",
        "t0 = time.time()\r\n",
        "catboost_model.fit(X_train_std,y_train_top3)\r\n",
        "print(f\"Training time for top3 CatBoost classifier: {time.time() - t0} sec\")\r\n",
        "\r\n",
        "# Prediction on training dataset\r\n",
        "catboost_predict_top3_train = catboost_model.predict(X_train_std)\r\n",
        "# Round the float number\r\n",
        "catboost_predict_top3_train = catboost_predict_top3_train.round(0)\r\n",
        "#converting from float to integer\r\n",
        "catboost_predict_top3_train = catboost_predict_top3_train.astype(int)\r\n",
        "\r\n",
        "# Prediction on testing dataset\r\n",
        "catboost_predict_top3_test = catboost_model.predict(X_test_std)\r\n",
        "# Round the float number\r\n",
        "catboost_predict_top3_test = catboost_predict_top3_test.round(0)\r\n",
        "#converting from float to integer\r\n",
        "catboost_predict_top3_test = catboost_predict_top3_test.astype(int)\r\n",
        "\r\n",
        "# Calculate accuracy\r\n",
        "f1_score_train, true_pos_win_rate_train = calc_accuracy(y_train_top3, catboost_predict_top3_train)\r\n",
        "f1_score_test, true_pos_win_rate_test = calc_accuracy(y_test_top3, catboost_predict_top3_test)\r\n",
        "\r\n",
        "# Append values to accuracy dictionary\r\n",
        "f1_scores[\"train\"][\"catboost\"] = round(f1_score_train, 4)\r\n",
        "true_pos_wining_rates[\"train\"][\"catboost\"] = round(true_pos_win_rate_train, 4)\r\n",
        "f1_scores[\"test\"][\"catboost\"] = round(f1_score_test, 4)\r\n",
        "true_pos_wining_rates[\"test\"][\"catboost\"] = round(true_pos_win_rate_test, 4)\r\n",
        "\r\n",
        "# Create a pickle file that contains the model\r\n",
        "create_model_pickle(catboost_model, 'catboost.pkl')\r\n",
        "print(\"CatBoost Done!\\n\")"
      ],
      "execution_count": null,
      "outputs": []
    },
    {
      "cell_type": "markdown",
      "metadata": {
        "id": "Gq3HciWKbDxv"
      },
      "source": [
        "## LightGBM"
      ]
    },
    {
      "cell_type": "code",
      "metadata": {
        "id": "9TZcQODVJSBL"
      },
      "source": [
        "# *** LightGBM *** , \"is_unbalance\": True\r\n",
        "print(\"LightGBM...\")\r\n",
        "# Bayesian Optimization for tuning hyperparameters\r\n",
        "print(\"Bayesian Optimization for tuning hyperparameters\")\r\n",
        "num_iterations = {0: 100, 1: 250, 2: 450, 3: 700, 4: 1000}\r\n",
        "max_depth = {0: 5, 1: 10, 2: 15, 3: 20, 4: 25, 5:30, 6:35}\r\n",
        "min_data_in_leaf = {0: 200, 1: 400, 2: 600, 3: 800, 4: 1000, 5: 1200, 6: 1500, 7: 2000}\r\n",
        "bagging_freq = {0: 1, 1: 2, 2: 3, 3: 4}\r\n",
        "lgb_space = {\r\n",
        "    \"num_iterations\": hp.choice(\"num_iterations\", num_iterations.values()),\r\n",
        "    'num_leaves': hp.randint('num_leaves', 256),\r\n",
        "    \"min_data_in_leaf\": hp.choice(\"min_data_in_leaf\", min_data_in_leaf.values()),\r\n",
        "    \"max_depth\": hp.choice(\"max_depth\", max_depth.values()),\r\n",
        "    'learning_rate': hp.uniform('learning_rate', 0.005, 0.3),\r\n",
        "    'feature_fraction': hp.uniform('feature_fraction', 0.3, 1),\r\n",
        "    'bagging_fraction': hp.uniform('bagging_fraction', 0.5, 1),\r\n",
        "    'bagging_freq': hp.choice('bagging_freq', bagging_freq.values()),\r\n",
        "    'lambda_l2': hp.randint('lambda_l2', 1000)\r\n",
        "}\r\n",
        "\r\n",
        "\r\n",
        "def lgb_objective(params):\r\n",
        "    model = lgb.LGBMClassifier(**params, is_unbalance=True, metrics='auc', \r\n",
        "                               device='gpu',objective='binary', verbosity=-1)\r\n",
        "    acc = cross_val_score(model, X_train_std, y_train_top3, cv = 5, scoring='roc_auc', error_score='raise').mean()\r\n",
        "    # We aim to maximize accuracy, therefore we return it as a negative value\r\n",
        "    return {'loss': -acc, 'status': STATUS_OK }\r\n",
        "\r\n",
        "t_tuning = time.time()\r\n",
        "lgb_trials = Trials()\r\n",
        "lgb_best_hyperparams = fmin(fn= lgb_objective,\r\n",
        "                space= lgb_space,\r\n",
        "                algo= tpe.suggest,\r\n",
        "                max_evals = 100,\r\n",
        "                trials= lgb_trials)\r\n",
        "print(f\"elapse time of tuning hyperparameter process: {time.time()-t_tuning} sec\")\r\n",
        "\r\n",
        "lgb_best_hyperparams['num_iterations'] = num_iterations[lgb_best_hyperparams['num_iterations']]\r\n",
        "lgb_best_hyperparams['max_depth'] = max_depth[lgb_best_hyperparams['max_depth']]\r\n",
        "lgb_best_hyperparams['min_data_in_leaf'] = min_data_in_leaf[lgb_best_hyperparams['min_data_in_leaf']]                \r\n",
        "\r\n",
        "lgb_best_hyperparams['objective'] ='binary'\r\n",
        "lgb_best_hyperparams['metric'] ='auc'\r\n",
        "lgb_best_hyperparams['is_unbalance'] =True\r\n",
        "lgb_best_hyperparams['silent'] =True\r\n",
        "lgb_best_hyperparams['verbosity'] =-1\r\n",
        "lgb_best_hyperparams['device'] ='gpu'\r\n",
        "print(\"best hyperparameters for Random Forest: \", lgb_best_hyperparams)\r\n",
        "\r\n",
        "# Create json file that record best parameters of the model\r\n",
        "with open('lgb_best_hyperparams.json', 'w') as fp:\r\n",
        "    json.dump(lgb_best_hyperparams, fp)"
      ],
      "execution_count": null,
      "outputs": []
    },
    {
      "cell_type": "markdown",
      "metadata": {
        "id": "GsybWm5a0dPb"
      },
      "source": [
        "LightGBM...\r\n",
        "\r\n",
        "Bayesian Optimization for tuning hyperparameters\r\n",
        "\r\n",
        "100%|██████████| 100/100 [4:32:49<00:00, 163.69s/trial, best loss: -0.856867746353366]\r\n",
        "\r\n",
        "elapse time of tuning hyperparameter process: 16369.418282270432 sec\r\n",
        "\r\n",
        "best hyperparameters for Random Forest:  {'bagging_fraction': 0.8585711947529121, 'bagging_freq': 1, 'feature_fraction': 0.98412273666869, 'lambda_l2': 165, 'learning_rate': 0.08299067054413506, 'max_depth': 5, 'min_data_in_leaf': 400, 'num_iterations': 450, 'num_leaves': 57, 'objective': 'binary', 'metric': 'auc', 'is_unbalance': True, 'silent': True, 'verbosity': -1, 'device': 'gpu'}\r\n"
      ]
    },
    {
      "cell_type": "code",
      "metadata": {
        "id": "A4yzbf4gu4Rc",
        "colab": {
          "base_uri": "https://localhost:8080/"
        },
        "outputId": "f10f50dc-11ab-44ca-e3f1-8da22d7d7f2f"
      },
      "source": [
        "# Get optimal parameters and output final LightBM model\r\n",
        "\r\n",
        "lg_model = lgb.LGBMClassifier(num_iterations=lgb_best_hyperparams['num_iterations'], \r\n",
        "                              num_leaves=lgb_best_hyperparams['num_leaves'], \r\n",
        "                              min_data_in_leaf=lgb_best_hyperparams['min_data_in_leaf'],\r\n",
        "                              max_depth=lgb_best_hyperparams['max_depth'],\r\n",
        "                              learning_rate=lgb_best_hyperparams['learning_rate'],\r\n",
        "                              feature_fraction=lgb_best_hyperparams['feature_fraction'],\r\n",
        "                              bagging_fraction=lgb_best_hyperparams['bagging_fraction'],\r\n",
        "                              bagging_freq=lgb_best_hyperparams['bagging_freq'],\r\n",
        "                              lambda_l2=lgb_best_hyperparams['lambda_l2'],\r\n",
        "                              objective='binary',\r\n",
        "                              metric='auc',\r\n",
        "                              is_unbalance=True,\r\n",
        "                              silent=True,\r\n",
        "                              verbosity=-1,\r\n",
        "                              device='gpu')\r\n",
        "t0 = time.time()\r\n",
        "lg_model.fit(X_train_std,y_train_top3)\r\n",
        "print(f\"Training time for top3 LightGBM classifier: {time.time() - t0} sec\")\r\n",
        "\r\n",
        "# Prediction on training dataset\r\n",
        "lg_predict_top3_train = lg_model.predict(X_train_std)\r\n",
        "# Round the float number\r\n",
        "lg_predict_top3_train = lg_predict_top3_train.round(0)\r\n",
        "#converting from float to integer\r\n",
        "lg_predict_top3_train = lg_predict_top3_train.astype(int)\r\n",
        "\r\n",
        "# Prediction on testing dataset\r\n",
        "lg_predict_top3_test = lg_model.predict(X_test_std)\r\n",
        "# Round the float number\r\n",
        "lg_predict_top3_test = lg_predict_top3_test.round(0)\r\n",
        "#converting from float to integer\r\n",
        "lg_predict_top3_test = lg_predict_top3_test.astype(int)\r\n",
        "\r\n",
        "# Calculate accuracy\r\n",
        "f1_score_train, true_pos_win_rate_train = calc_accuracy(y_train_top3, lg_predict_top3_train)\r\n",
        "f1_score_test, true_pos_win_rate_test = calc_accuracy(y_test_top3, lg_predict_top3_test)\r\n",
        "\r\n",
        "# Append values to accuracy dictionary\r\n",
        "f1_scores[\"train\"][\"lightGBM\"] = round(f1_score_train, 4)\r\n",
        "true_pos_wining_rates[\"train\"][\"lightGBM\"] = round(true_pos_win_rate_train, 4)\r\n",
        "f1_scores[\"test\"][\"lightGBM\"] = round(f1_score_test, 4)\r\n",
        "true_pos_wining_rates[\"test\"][\"lightGBM\"] = round(true_pos_win_rate_test, 4)\r\n",
        "\r\n",
        "create_model_pickle(lg_model, 'lightgbm.pkl')\r\n",
        "print(\"LightGBM Done!\\n\")"
      ],
      "execution_count": 19,
      "outputs": [
        {
          "output_type": "stream",
          "text": [
            "[LightGBM] [Warning] feature_fraction is set=0.98412273666869, colsample_bytree=1.0 will be ignored. Current value: feature_fraction=0.98412273666869\n",
            "[LightGBM] [Warning] bagging_freq is set=1, subsample_freq=0 will be ignored. Current value: bagging_freq=1\n",
            "[LightGBM] [Warning] lambda_l2 is set=165, reg_lambda=0.0 will be ignored. Current value: lambda_l2=165\n",
            "[LightGBM] [Warning] min_data_in_leaf is set=400, min_child_samples=20 will be ignored. Current value: min_data_in_leaf=400\n",
            "[LightGBM] [Warning] bagging_fraction is set=0.8585711947529121, subsample=1.0 will be ignored. Current value: bagging_fraction=0.8585711947529121\n",
            "Training time for top3 LightGBM classifier: 13.163926124572754 sec\n",
            "F1 score: 0.77724\n",
            "correct_pred_top3/total_actual_top3: 0.79218\n",
            "F1 score: 0.67886\n",
            "correct_pred_top3/total_actual_top3: 0.55762\n",
            "Pickling the model into the file lightgbm.pkl\n",
            "Finished pickling the model\n",
            "LightGBM Done!\n",
            "\n"
          ],
          "name": "stdout"
        }
      ]
    },
    {
      "cell_type": "code",
      "metadata": {
        "id": "CaMv51PDDeyy",
        "colab": {
          "base_uri": "https://localhost:8080/",
          "height": 484
        },
        "outputId": "34c5cd4f-3a1c-4a9d-8dc0-be78325dccfd"
      },
      "source": [
        "class_name = [0, 1]\r\n",
        "plot_confusion_matrix(lg_predict_top3_test, y_test_top3, class_name, normalize=False)"
      ],
      "execution_count": 20,
      "outputs": [
        {
          "output_type": "stream",
          "text": [
            "correct_pred_top3/total_actual_top3:  0.5576174112256587\n"
          ],
          "name": "stdout"
        },
        {
          "output_type": "display_data",
          "data": {
            "image/png": "[encoded data removed]",
            "text/plain": [
              "<Figure size 576x432 with 2 Axes>"
            ]
          },
          "metadata": {
            "tags": [],
            "needs_background": "light"
          }
        }
      ]
    },
    {
      "cell_type": "markdown",
      "metadata": {
        "id": "lWdrYt6j02jB"
      },
      "source": [
        "## Ensemble model"
      ]
    },
    {
      "cell_type": "markdown",
      "metadata": {
        "id": "TbwKUxa288MX"
      },
      "source": [
        "### Soft Voting"
      ]
    },
    {
      "cell_type": "code",
      "metadata": {
        "id": "85vFXQOq01mx",
        "colab": {
          "base_uri": "https://localhost:8080/"
        },
        "outputId": "16785dda-d21d-440f-999f-4225a696dd3b"
      },
      "source": [
        "#create a dictionary of our models\r\n",
        "estimator = [(\"catboost\", catboost_model), \r\n",
        "             (\"lightGBM\", lg_model)]\r\n",
        "\r\n",
        "#create our voting classifier, inputting our models\r\n",
        "\r\n",
        "vot_soft = VotingClassifier(estimators = estimator, voting ='soft') \r\n",
        "vot_soft.fit(X_train_std, y_train_top3)\r\n",
        "\r\n",
        "yhat_train = vot_soft.predict(X_train_std)\r\n",
        "yhat_test = vot_soft.predict(X_test_std)"
      ],
      "execution_count": 21,
      "outputs": [
        {
          "output_type": "stream",
          "text": [
            "[LightGBM] [Warning] feature_fraction is set=0.98412273666869, colsample_bytree=1.0 will be ignored. Current value: feature_fraction=0.98412273666869\n",
            "[LightGBM] [Warning] bagging_freq is set=1, subsample_freq=0 will be ignored. Current value: bagging_freq=1\n",
            "[LightGBM] [Warning] lambda_l2 is set=165, reg_lambda=0.0 will be ignored. Current value: lambda_l2=165\n",
            "[LightGBM] [Warning] min_data_in_leaf is set=400, min_child_samples=20 will be ignored. Current value: min_data_in_leaf=400\n",
            "[LightGBM] [Warning] bagging_fraction is set=0.8585711947529121, subsample=1.0 will be ignored. Current value: bagging_fraction=0.8585711947529121\n"
          ],
          "name": "stdout"
        }
      ]
    },
    {
      "cell_type": "code",
      "metadata": {
        "colab": {
          "base_uri": "https://localhost:8080/",
          "height": 484
        },
        "id": "k0DAVIUesCMB",
        "outputId": "603fa790-5fa8-4815-861b-51406d8b6814"
      },
      "source": [
        "class_name = [0, 1]\r\n",
        "plot_confusion_matrix(yhat_test, y_test_top3, class_name, normalize=False)"
      ],
      "execution_count": 22,
      "outputs": [
        {
          "output_type": "stream",
          "text": [
            "correct_pred_top3/total_actual_top3:  0.5709049255441008\n"
          ],
          "name": "stdout"
        },
        {
          "output_type": "display_data",
          "data": {
            "image/png": "[encoded data removed]",
            "text/plain": [
              "<Figure size 576x432 with 2 Axes>"
            ]
          },
          "metadata": {
            "tags": [],
            "needs_background": "light"
          }
        }
      ]
    },
    {
      "cell_type": "code",
      "metadata": {
        "id": "G71eEW0I7aYY",
        "colab": {
          "base_uri": "https://localhost:8080/"
        },
        "outputId": "31b9a6bf-c570-45e4-8af9-78553a6073ee"
      },
      "source": [
        "# Calculate accuracy\r\n",
        "f1_score_train, true_pos_win_rate_train = calc_accuracy(y_train_top3, yhat_train)\r\n",
        "f1_score_test, true_pos_win_rate_test = calc_accuracy(y_test_top3, yhat_test)\r\n",
        "\r\n",
        "# Append values to accuracy dictionary\r\n",
        "f1_scores[\"train\"][\"EN_SOFT\"] = round(f1_score_train, 4)\r\n",
        "true_pos_wining_rates[\"train\"][\"EN_SOFT\"] = round(true_pos_win_rate_train, 4)\r\n",
        "f1_scores[\"test\"][\"EN_SOFT\"] = round(f1_score_test, 4)\r\n",
        "true_pos_wining_rates[\"test\"][\"EN_SOFT\"] = round(true_pos_win_rate_test, 4)\r\n",
        "\r\n",
        "create_model_pickle(vot_soft, 'vot_soft.pkl')\r\n",
        "\r\n",
        "print(\"f1_score:\", f1_scores)\r\n",
        "print(\"\\n\")\r\n",
        "print(\"true positive wining rate:\", true_pos_wining_rates)"
      ],
      "execution_count": 23,
      "outputs": [
        {
          "output_type": "stream",
          "text": [
            "F1 score: 0.77165\n",
            "correct_pred_top3/total_actual_top3: 0.80320\n",
            "F1 score: 0.67347\n",
            "correct_pred_top3/total_actual_top3: 0.57090\n",
            "Pickling the model into the file vot_soft.pkl\n",
            "Finished pickling the model\n",
            "f1_score: {'train': {'logis_reg': 0, 'randomForest': 0, 'catboost': 0.7652, 'lightGBM': 0.7772, 'EN_HARD': 0, 'EN_SOFT': 0.7716}, 'test': {'logis_reg': 0, 'randomForest': 0, 'catboost': 0.668, 'lightGBM': 0.6789, 'EN_HARD': 0, 'EN_SOFT': 0.6735}}\n",
            "\n",
            "\n",
            "true positive wining rate: {'train': {'logis_reg': 0, 'randomForest': 0, 'catboost': 0.8142, 'lightGBM': 0.7922, 'EN_HARD': 0, 'EN_SOFT': 0.8032}, 'test': {'logis_reg': 0, 'randomForest': 0, 'catboost': 0.583, 'lightGBM': 0.5576, 'EN_HARD': 0, 'EN_SOFT': 0.5709}}\n"
          ],
          "name": "stdout"
        }
      ]
    },
    {
      "cell_type": "markdown",
      "metadata": {
        "id": "6a6zXa_-84pg"
      },
      "source": [
        "### Hard Voting"
      ]
    },
    {
      "cell_type": "code",
      "metadata": {
        "id": "MpUYgAIA76pg",
        "colab": {
          "base_uri": "https://localhost:8080/"
        },
        "outputId": "1ea2d0f7-8427-4f86-e848-0e3a5e36c9fa"
      },
      "source": [
        "#create a dictionary of our models\r\n",
        "estimator = [(\"catboost\", catboost_model), \r\n",
        "             (\"lightGBM\", lg_model)]\r\n",
        "\r\n",
        "\r\n",
        "#create our voting classifier, inputting our models\r\n",
        "vot_hard = VotingClassifier(estimators = estimator, voting ='hard') \r\n",
        "vot_hard.fit(X_train_std, y_train_top3)\r\n",
        "\r\n",
        "yhat_train = vot_hard.predict(X_train_std)\r\n",
        "yhat_test = vot_hard.predict(X_test_std)\r\n"
      ],
      "execution_count": 24,
      "outputs": [
        {
          "output_type": "stream",
          "text": [
            "[LightGBM] [Warning] feature_fraction is set=0.98412273666869, colsample_bytree=1.0 will be ignored. Current value: feature_fraction=0.98412273666869\n",
            "[LightGBM] [Warning] bagging_freq is set=1, subsample_freq=0 will be ignored. Current value: bagging_freq=1\n",
            "[LightGBM] [Warning] lambda_l2 is set=165, reg_lambda=0.0 will be ignored. Current value: lambda_l2=165\n",
            "[LightGBM] [Warning] min_data_in_leaf is set=400, min_child_samples=20 will be ignored. Current value: min_data_in_leaf=400\n",
            "[LightGBM] [Warning] bagging_fraction is set=0.8585711947529121, subsample=1.0 will be ignored. Current value: bagging_fraction=0.8585711947529121\n"
          ],
          "name": "stdout"
        }
      ]
    },
    {
      "cell_type": "code",
      "metadata": {
        "colab": {
          "base_uri": "https://localhost:8080/",
          "height": 484
        },
        "id": "kNAfKm4JupDD",
        "outputId": "067f7253-6918-41a2-80a6-7dcbedf2a3ad"
      },
      "source": [
        "class_name = [0, 1]\r\n",
        "plot_confusion_matrix(yhat_test, y_test_top3, class_name, normalize=False)"
      ],
      "execution_count": 25,
      "outputs": [
        {
          "output_type": "stream",
          "text": [
            "correct_pred_top3/total_actual_top3:  0.5562428407789233\n"
          ],
          "name": "stdout"
        },
        {
          "output_type": "display_data",
          "data": {
            "image/png": "[encoded data removed]",
            "text/plain": [
              "<Figure size 576x432 with 2 Axes>"
            ]
          },
          "metadata": {
            "tags": [],
            "needs_background": "light"
          }
        }
      ]
    },
    {
      "cell_type": "code",
      "metadata": {
        "id": "0aLKdd7o76tB",
        "colab": {
          "base_uri": "https://localhost:8080/"
        },
        "outputId": "c4655835-5329-482b-c8f3-e5e2f5590580"
      },
      "source": [
        "# Calculate accuracy\r\n",
        "f1_score_train, true_pos_win_rate_train = calc_accuracy(y_train_top3, yhat_train)\r\n",
        "f1_score_test, true_pos_win_rate_test = calc_accuracy(y_test_top3, yhat_test)\r\n",
        "\r\n",
        "# Append values to accuracy dictionary\r\n",
        "f1_scores[\"train\"][\"EN_HARD\"] = round(f1_score_train, 4)\r\n",
        "true_pos_wining_rates[\"train\"][\"EN_HARD\"] = round(true_pos_win_rate_train, 4)\r\n",
        "f1_scores[\"test\"][\"EN_HARD\"] = round(f1_score_test, 4)\r\n",
        "true_pos_wining_rates[\"test\"][\"EN_HARD\"] = round(true_pos_win_rate_test, 4)\r\n",
        "\r\n",
        "create_model_pickle(vot_hard, 'vot_hard.pkl')\r\n",
        "\r\n",
        "print(\"f1_score:\", f1_scores)\r\n",
        "print(\"\\n\")\r\n",
        "print(\"true positive wining rate:\", true_pos_wining_rates)"
      ],
      "execution_count": 26,
      "outputs": [
        {
          "output_type": "stream",
          "text": [
            "F1 score: 0.77801\n",
            "correct_pred_top3/total_actual_top3: 0.79066\n",
            "F1 score: 0.68002\n",
            "correct_pred_top3/total_actual_top3: 0.55624\n",
            "Pickling the model into the file vot_hard.pkl\n",
            "Finished pickling the model\n",
            "f1_score: {'train': {'logis_reg': 0, 'randomForest': 0, 'catboost': 0.7652, 'lightGBM': 0.7772, 'EN_HARD': 0.778, 'EN_SOFT': 0.7716}, 'test': {'logis_reg': 0, 'randomForest': 0, 'catboost': 0.668, 'lightGBM': 0.6789, 'EN_HARD': 0.68, 'EN_SOFT': 0.6735}}\n",
            "\n",
            "\n",
            "true positive wining rate: {'train': {'logis_reg': 0, 'randomForest': 0, 'catboost': 0.8142, 'lightGBM': 0.7922, 'EN_HARD': 0.7907, 'EN_SOFT': 0.8032}, 'test': {'logis_reg': 0, 'randomForest': 0, 'catboost': 0.583, 'lightGBM': 0.5576, 'EN_HARD': 0.5562, 'EN_SOFT': 0.5709}}\n"
          ],
          "name": "stdout"
        }
      ]
    },
    {
      "cell_type": "markdown",
      "metadata": {
        "id": "IPapezKFG4lC"
      },
      "source": [
        "## Create f1_score.json and true_pos_wining_rates.json"
      ]
    },
    {
      "cell_type": "code",
      "metadata": {
        "id": "ynWzsuX5Dj20"
      },
      "source": [
        "with open('f1_scores.json', 'w') as fp:\r\n",
        "    json.dump(f1_scores, fp)\r\n",
        "\r\n",
        "with open('true_pos_wining_rates.json', 'w') as fp:\r\n",
        "    json.dump(true_pos_wining_rates, fp)"
      ],
      "execution_count": 27,
      "outputs": []
    },
    {
      "cell_type": "markdown",
      "metadata": {
        "id": "4Kwl7lLC9dsL"
      },
      "source": [
        "# Report"
      ]
    },
    {
      "cell_type": "code",
      "metadata": {
        "id": "rtfVt50n01ts",
        "colab": {
          "base_uri": "https://localhost:8080/",
          "height": 226
        },
        "outputId": "fde4c53b-8a3e-44dc-c2ae-e4ca995e3ab0"
      },
      "source": [
        "d = {\r\n",
        "    \"true_pos_wining_rates-training\": true_pos_wining_rates[\"train\"],\r\n",
        "    \"F1-score-training\": f1_scores[\"train\"],\r\n",
        "    \"true_pos_wining_rates-testing\": true_pos_wining_rates[\"test\"],\r\n",
        "    \"F1-score-testing\": f1_scores[\"test\"]\r\n",
        "}\r\n",
        "algorithms_list = [\"Logistic Regression\", \"Random Forest\", \"CatBoost\", \"LightGBM\", \"Hard Voting\", \"Soft Voting\"]\r\n",
        "df = pd.DataFrame(d).reset_index().drop(columns=\"index\")\r\n",
        "df.insert(0, \"Algorithm\", algorithms_list)\r\n",
        "df"
      ],
      "execution_count": 28,
      "outputs": [
        {
          "output_type": "execute_result",
          "data": {
            "text/html": [
              "<div>\n",
              "<style scoped>\n",
              "    .dataframe tbody tr th:only-of-type {\n",
              "        vertical-align: middle;\n",
              "    }\n",
              "\n",
              "    .dataframe tbody tr th {\n",
              "        vertical-align: top;\n",
              "    }\n",
              "\n",
              "    .dataframe thead th {\n",
              "        text-align: right;\n",
              "    }\n",
              "</style>\n",
              "<table border=\"1\" class=\"dataframe\">\n",
              "  <thead>\n",
              "    <tr style=\"text-align: right;\">\n",
              "      <th></th>\n",
              "      <th>Algorithm</th>\n",
              "      <th>true_pos_wining_rates-training</th>\n",
              "      <th>F1-score-training</th>\n",
              "      <th>true_pos_wining_rates-testing</th>\n",
              "      <th>F1-score-testing</th>\n",
              "    </tr>\n",
              "  </thead>\n",
              "  <tbody>\n",
              "    <tr>\n",
              "      <th>0</th>\n",
              "      <td>Logistic Regression</td>\n",
              "      <td>0.0000</td>\n",
              "      <td>0.0000</td>\n",
              "      <td>0.0000</td>\n",
              "      <td>0.0000</td>\n",
              "    </tr>\n",
              "    <tr>\n",
              "      <th>1</th>\n",
              "      <td>Random Forest</td>\n",
              "      <td>0.0000</td>\n",
              "      <td>0.0000</td>\n",
              "      <td>0.0000</td>\n",
              "      <td>0.0000</td>\n",
              "    </tr>\n",
              "    <tr>\n",
              "      <th>2</th>\n",
              "      <td>CatBoost</td>\n",
              "      <td>0.8142</td>\n",
              "      <td>0.7652</td>\n",
              "      <td>0.5830</td>\n",
              "      <td>0.6680</td>\n",
              "    </tr>\n",
              "    <tr>\n",
              "      <th>3</th>\n",
              "      <td>LightGBM</td>\n",
              "      <td>0.7922</td>\n",
              "      <td>0.7772</td>\n",
              "      <td>0.5576</td>\n",
              "      <td>0.6789</td>\n",
              "    </tr>\n",
              "    <tr>\n",
              "      <th>4</th>\n",
              "      <td>Hard Voting</td>\n",
              "      <td>0.7907</td>\n",
              "      <td>0.7780</td>\n",
              "      <td>0.5562</td>\n",
              "      <td>0.6800</td>\n",
              "    </tr>\n",
              "    <tr>\n",
              "      <th>5</th>\n",
              "      <td>Soft Voting</td>\n",
              "      <td>0.8032</td>\n",
              "      <td>0.7716</td>\n",
              "      <td>0.5709</td>\n",
              "      <td>0.6735</td>\n",
              "    </tr>\n",
              "  </tbody>\n",
              "</table>\n",
              "</div>"
            ],
            "text/plain": [
              "             Algorithm  ...  F1-score-testing\n",
              "0  Logistic Regression  ...            0.0000\n",
              "1        Random Forest  ...            0.0000\n",
              "2             CatBoost  ...            0.6680\n",
              "3             LightGBM  ...            0.6789\n",
              "4          Hard Voting  ...            0.6800\n",
              "5          Soft Voting  ...            0.6735\n",
              "\n",
              "[6 rows x 5 columns]"
            ]
          },
          "metadata": {
            "tags": []
          },
          "execution_count": 28
        }
      ]
    },
    {
      "cell_type": "code",
      "metadata": {
        "id": "uYeU6L0FPUbw"
      },
      "source": [
        ""
      ],
      "execution_count": null,
      "outputs": []
    }
  ]
}